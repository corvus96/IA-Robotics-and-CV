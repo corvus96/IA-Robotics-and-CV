{
 "cells": [
  {
   "cell_type": "markdown",
   "metadata": {},
   "source": [
    "# The Thompsom Sampling model\n",
    "using the following distribution function, you can find which is the optimal solution for each slot machine:\n",
    "$x = \\beta(a,b)$\n",
    "where:\n",
    "* $x$ - a random choice from our Beta distribution\n",
    "* $\\beta$ - our beta function\n",
    "* $a$ - the first argument, which the higher it's the better our slot machine is\n",
    "* $b$ - the second argument, whcih the higher it is the worse our slot machine is"
   ]
  },
  {
   "cell_type": "code",
   "execution_count": 2,
   "metadata": {},
   "outputs": [],
   "source": [
    "import numpy as np"
   ]
  },
  {
   "cell_type": "code",
   "execution_count": 34,
   "metadata": {},
   "outputs": [],
   "source": [
    "conversion_rates = np.array([0.15, 0.04, 0.13, 0.11, 0.05])\n",
    "N = 10000\n",
    "d = len(conversion_rates)\n",
    "\n",
    "#creating a dataset\n",
    "X = np.random.rand(N,d)\n",
    "X = (X < conversion_rates).astype(int)"
   ]
  },
  {
   "cell_type": "code",
   "execution_count": 37,
   "metadata": {},
   "outputs": [
    {
     "name": "stdout",
     "output_type": "stream",
     "text": [
      "Machine number 1 was selected 7925.0 times\n",
      "Machine number 2 was selected 119.0 times\n",
      "Machine number 3 was selected 771.0 times\n",
      "Machine number 4 was selected 1006.0 times\n",
      "Machine number 5 was selected 179.0 times\n",
      "Conclusion: Best machine is machine number 1\n"
     ]
    }
   ],
   "source": [
    "n_pos_reward = np.zeros(d)\n",
    "n_neg_reward = np.zeros(d)\n",
    "# Taking our best slot machine through beta distribution and updating its losses and wins\n",
    "for i in range(N):\n",
    "    selected = 0\n",
    "    maxRandom = 0 # To get the highest beta distribution guess across all slot machines\n",
    "    for j in range(d):\n",
    "        random_beta = np.random.beta(n_pos_reward[j] +1, n_neg_reward[j] + 1)\n",
    "        if random_beta > maxRandom:\n",
    "            maxRandom = random_beta\n",
    "            selected = j\n",
    "    if X[i][selected] == 1:\n",
    "        n_pos_reward[selected] += 1\n",
    "    else:\n",
    "        n_neg_reward[selected] += 1\n",
    "    # Showing which slot machine \n",
    "n_selected = n_pos_reward + n_neg_reward\n",
    "for i in range(d):\n",
    "    print(\"Machine number \" + str(i+1)+ \" was selected \" + str(n_selected[i]) + \" times\")\n",
    "print(\"Conclusion: Best machine is machine number \" + str(np.argmax(n_selected) + 1))"
   ]
  }
 ],
 "metadata": {
  "kernelspec": {
   "display_name": "Python 3",
   "language": "python",
   "name": "python3"
  },
  "language_info": {
   "codemirror_mode": {
    "name": "ipython",
    "version": 3
   },
   "file_extension": ".py",
   "mimetype": "text/x-python",
   "name": "python",
   "nbconvert_exporter": "python",
   "pygments_lexer": "ipython3",
   "version": "3.11.9"
  }
 },
 "nbformat": 4,
 "nbformat_minor": 2
}
